{
  "nbformat": 4,
  "nbformat_minor": 0,
  "metadata": {
    "colab": {
      "name": "Test.ipynb",
      "provenance": [],
      "collapsed_sections": []
    },
    "kernelspec": {
      "name": "python3",
      "display_name": "Python 3"
    },
    "language_info": {
      "name": "python"
    }
  },
  "cells": [
    {
      "cell_type": "markdown",
      "metadata": {
        "id": "GJiOVQlIt9wN"
      },
      "source": [
        "##**Approach:**\n",
        "\n",
        "n = no fo steps\n",
        "\n",
        "result = no of ways to climb n steps\n",
        "\n",
        "***case1***:   n=0  \n",
        "\n",
        "when there are 0 steps then there is only one way to move from the place by just one step.\n",
        "\n",
        "hence result = 1 ways\n",
        "\n",
        "***case2*** : n=1\n",
        "\n",
        "when there is only one step then there is only one way we can climb the step\n",
        " \n",
        " hence result= 1 way\n",
        "\n",
        " ***case3*** : n= 2\n",
        "\n",
        "when there are 2 steps then :\n",
        " there are two ways - Climbing 2 steps at once and climbing each step once 2 times.\n",
        " hence two ways.\n",
        "\n",
        " result = 3 ways\n",
        "\n",
        "***case4*** : n= 3 \n",
        "climbing three at once - 1 way\n",
        "\n",
        "climbing two at once and third one at once - 1 way\n",
        "\n",
        "climbing one step once and remaing two at once - 1 way\n",
        "\n",
        "climbing three steps each at once - 1 way\n",
        "\n",
        "result = 4 ways  \n",
        "\n",
        "this continious like a recursive function more like a fibonacci series!\n",
        "\n",
        "\n",
        "\n"
      ]
    },
    {
      "cell_type": "code",
      "metadata": {
        "colab": {
          "base_uri": "https://localhost:8080/"
        },
        "id": "me0FeaSyskkz",
        "outputId": "cafd0579-7f4b-466b-95fc-4592f40a535b"
      },
      "source": [
        "n = int(input(\" enter the no of strais to climb: \"))\n",
        "class Solution:\n",
        "    def climbStairs(self,n):\n",
        "        result = []\n",
        "        result.append(1) # n = 0, can climb 1 ways\n",
        "        result.append(1) # n = 1, can climb 1 ways\n",
        "        result.append(2) # n = 2, can climb 2 ways\n",
        "        for i in range(3, n+1):\n",
        "            result.append(result[i-3] + result[i-2]+ result[i-1])\n",
        "        return result[i] #since the generated series is fibonacci, the last value in the list gives result"
      ],
      "execution_count": 1,
      "outputs": [
        {
          "output_type": "stream",
          "text": [
            " enter the no of strais to climb: 4\n"
          ],
          "name": "stdout"
        }
      ]
    },
    {
      "cell_type": "code",
      "metadata": {
        "colab": {
          "base_uri": "https://localhost:8080/"
        },
        "id": "lEJ4yQn6sv0u",
        "outputId": "c9d457ae-3c41-4ed0-86ce-b5a055de120e"
      },
      "source": [
        "object1 = Solution()\n",
        "Result = object1.climbStairs(n)\n",
        "print(\"The no.of ways required to climb {} steps is {} ways\".format(n,Result))"
      ],
      "execution_count": 7,
      "outputs": [
        {
          "output_type": "stream",
          "text": [
            "The no.of ways required to climb 4 steps is 7 ways\n"
          ],
          "name": "stdout"
        }
      ]
    },
    {
      "cell_type": "code",
      "metadata": {
        "colab": {
          "base_uri": "https://localhost:8080/"
        },
        "id": "YhzuMsPg0ELb",
        "outputId": "e46ab997-8f65-4ea2-9a25-cfcb20c1eb07"
      },
      "source": [
        "object1.climbStairs(6)\n"
      ],
      "execution_count": 8,
      "outputs": [
        {
          "output_type": "execute_result",
          "data": {
            "text/plain": [
              "24"
            ]
          },
          "metadata": {
            "tags": []
          },
          "execution_count": 8
        }
      ]
    }
  ]
}